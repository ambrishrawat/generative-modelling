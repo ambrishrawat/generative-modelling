{
 "cells": [
  {
   "cell_type": "code",
   "execution_count": 26,
   "metadata": {
    "collapsed": false,
    "deletable": true,
    "editable": true
   },
   "outputs": [
    {
     "data": {
      "image/png": "[encoded data removed]",
      "text/plain": [
       "<matplotlib.figure.Figure at 0x111c924a8>"
      ]
     },
     "metadata": {},
     "output_type": "display_data"
    }
   ],
   "source": [
    "from matplotlib import rc\n",
    "rc(\"font\", family=\"serif\", size=12)\n",
    "rc(\"text\", usetex=True)\n",
    "\n",
    "import daft\n",
    "\n",
    "# Instantiate the PGM.\n",
    "pgm = daft.PGM([2.5, 2.5], origin=[0, 0])\n",
    "\n",
    "# Hierarchical parameters.\n",
    "pgm.add_node(daft.Node(\"alpha\", r\"$\\alpha$\", 1, 2.5, fixed=True))\n",
    "pgm.add_node(daft.Node(\"beta\", r\"$\\beta$\", 2, 2.5, fixed=True))\n",
    "\n",
    "\n",
    "# Latent variable.\n",
    "pgm.add_node(daft.Node(\"mu\", r\"$\\mu$\", 1, 2))\n",
    "pgm.add_node(daft.Node(\"sigma\", r\"$\\sigma$\", 2, 2))\n",
    "\n",
    "# Data.\n",
    "pgm.add_node(daft.Node(\"x\", r\"$x_n$\", 1.5, 1, observed=True))\n",
    "\n",
    "# Add in the edges.\n",
    "pgm.add_edge(\"alpha\", \"mu\")\n",
    "pgm.add_edge(\"beta\", \"sigma\")\n",
    "pgm.add_edge(\"mu\", \"x\")\n",
    "pgm.add_edge(\"sigma\", \"x\")\n",
    "\n",
    "# And a plate.\n",
    "#pgm.add_plate(daft.Plate([0.5, 0.5, 2, 1], label=r\"$n = 1, \\cdots, N$\",\n",
    "#    shift=-0.1))\n",
    "\n",
    "# Render and save.\n",
    "a = pgm.render()\n",
    "pgm.figure.savefig(\"classic.pdf\")\n",
    "pgm.figure.savefig(\"classic.png\", dpi=150)"
   ]
  },
  {
   "cell_type": "code",
   "execution_count": 11,
   "metadata": {
    "collapsed": false
   },
   "outputs": [
    {
     "data": {
      "image/png": "[encoded data removed]",
      "text/plain": [
       "<matplotlib.figure.Figure at 0x110602ac8>"
      ]
     },
     "execution_count": 11,
     "metadata": {},
     "output_type": "execute_result"
    }
   ],
   "source": [
    "import matplotlib.pyplot as plt\n",
    "import matplotlib.image as mpimg\n",
    "%matplotlib inline\n",
    "a.figure"
   ]
  },
  {
   "cell_type": "code",
   "execution_count": 4,
   "metadata": {
    "collapsed": false
   },
   "outputs": [
    {
     "data": {
      "text/plain": [
       "<matplotlib.image.AxesImage at 0x1122deb38>"
      ]
     },
     "execution_count": 4,
     "metadata": {},
     "output_type": "execute_result"
    },
    {
     "data": {
      "image/png": "[encoded data removed]",
      "text/plain": [
       "<matplotlib.figure.Figure at 0x112169a20>"
      ]
     },
     "metadata": {},
     "output_type": "display_data"
    }
   ],
   "source": [
    "img=mpimg.imread('classic.png')\n",
    "plt.imshow(img)"
   ]
  },
  {
   "cell_type": "code",
   "execution_count": 28,
   "metadata": {
    "collapsed": false
   },
   "outputs": [
    {
     "data": {
      "image/png": "[encoded data removed]",
      "text/plain": [
       "<matplotlib.figure.Figure at 0x11200de48>"
      ]
     },
     "metadata": {},
     "output_type": "display_data"
    }
   ],
   "source": [
    "pgm = daft.PGM([2.5, 2.5], origin=[0, 0])\n",
    "\n",
    "# Hierarchical parameters.\n",
    "pgm.add_node(daft.Node(\"alpha\", r\"$\\alpha$\", 1, 2.5, fixed=True))\n",
    "\n",
    "\n",
    "# Latent variable.\n",
    "pgm.add_node(daft.Node(\"mu\", r\"$\\mu$\", 1, 2))\n",
    "pgm.add_node(daft.Node(\"sigma\", r\"$\\sigma_0$\", 2, 2, fixed=True))\n",
    "\n",
    "# Data.\n",
    "pgm.add_node(daft.Node(\"x\", r\"$x_n$\", 1.5, 1, observed=True))\n",
    "\n",
    "# Add in the edges.\n",
    "pgm.add_edge(\"alpha\", \"mu\")\n",
    "pgm.add_edge(\"mu\", \"x\")\n",
    "pgm.add_edge(\"sigma\", \"x\")\n",
    "\n",
    "# And a plate.\n",
    "#pgm.add_plate(daft.Plate([0.5, 0.5, 2, 1], label=r\"$n = 1, \\cdots, N$\",\n",
    "#    shift=-0.1))\n",
    "\n",
    "# Render and save.\n",
    "a = pgm.render()"
   ]
  },
  {
   "cell_type": "code",
   "execution_count": null,
   "metadata": {
    "collapsed": true
   },
   "outputs": [],
   "source": []
  }
 ],
 "metadata": {
  "kernelspec": {
   "display_name": "Python 3",
   "language": "python",
   "name": "python3"
  },
  "language_info": {
   "codemirror_mode": {
    "name": "ipython",
    "version": 3
   },
   "file_extension": ".py",
   "mimetype": "text/x-python",
   "name": "python",
   "nbconvert_exporter": "python",
   "pygments_lexer": "ipython3",
   "version": "3.6.0"
  }
 },
 "nbformat": 4,
 "nbformat_minor": 2
}
