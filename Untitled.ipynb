{
 "cells": [
  {
   "cell_type": "code",
   "execution_count": 3,
   "metadata": {
    "collapsed": true
   },
   "outputs": [],
   "source": [
    "import numpy as np\n",
    "import scipy as sc\n",
    "import tensorflow as tf\n",
    "import seaborn\n",
    "import matplotlib.pyplot as plt\n",
    "%matplotlib inline"
   ]
  },
  {
   "cell_type": "code",
   "execution_count": 8,
   "metadata": {
    "collapsed": true
   },
   "outputs": [],
   "source": [
    "mu, sigma = 5, 0.2 # mean and standard deviation\n",
    "N = 1000\n",
    "X = np.random.normal(mu, sigma, N)"
   ]
  },
  {
   "cell_type": "markdown",
   "metadata": {},
   "source": [
    "# Genetaive Modeling\n",
    "\n",
    "Suppose we are given a set of N observations. The dataset is X\n",
    "\n",
    "- What does it look like? Histogram?\n",
    "- Some statistical properties\n",
    "- What's the closest apprixation I can make?\n",
    "- Can I infer the parameters of my model?\n",
    "\n",
    "- ## What does it look like?"
   ]
  },
  {
   "cell_type": "code",
   "execution_count": 20,
   "metadata": {
    "collapsed": false
   },
   "outputs": [
    {
     "data": {
      "image/png": "[encoded data removed]",
      "text/plain": [
       "<matplotlib.figure.Figure at 0x11a33ecc0>"
      ]
     },
     "metadata": {},
     "output_type": "display_data"
    }
   ],
   "source": [
    "p = plt.hist(X, 50, normed=True)"
   ]
  },
  {
   "cell_type": "markdown",
   "metadata": {},
   "source": [
    "- ## Some statistical properties"
   ]
  },
  {
   "cell_type": "code",
   "execution_count": 21,
   "metadata": {
    "collapsed": false
   },
   "outputs": [
    {
     "name": "stdout",
     "output_type": "stream",
     "text": [
      "mean:  5.00458614436\n",
      "var:  0.0408714719726\n",
      "std:  0.20216694085\n"
     ]
    }
   ],
   "source": [
    "print('mean: ',np.mean(X))\n",
    "print('var: ',np.var(X))\n",
    "print('std: ',np.std(X))"
   ]
  },
  {
   "cell_type": "markdown",
   "metadata": {},
   "source": [
    "- ## What's my model?\n",
    "\n",
    "Looking at the histogram, I assume that each point is a sample from a Gaussian distribution. Thus for eaxh $x_i$, we have\n",
    "\n",
    "$$ p(x_i) = (2\\pi \\sigma^2)^{\\frac{-1}{2}} exp(\\frac{-(x_i-\\mu)^2}{2\\sigma^2}) $$"
   ]
  },
  {
   "cell_type": "markdown",
   "metadata": {},
   "source": [
    "- ## Can I infer the parameters?\n",
    "\n",
    "Let's handle this the complete Bayesian way - \n",
    "\n",
    "$$p(\\theta|X,m) = \\frac{p(X|\\theta,m)p(\\theta|m)}{p(X|m)}$$\n",
    "\n",
    "Here, $\\theta=\\{\\mu,\\sigma\\}$\n",
    "\n",
    "$$p(X|\\mu,\\sigma,m) = \\prod_{i=1}^N (2\\pi \\sigma^2)^{\\frac{-1}{2}} exp(\\frac{-(x_i-\\mu)^2}{2\\sigma^2})$$"
   ]
  },
  {
   "cell_type": "code",
   "execution_count": null,
   "metadata": {
    "collapsed": true
   },
   "outputs": [],
   "source": []
  }
 ],
 "metadata": {
  "kernelspec": {
   "display_name": "Python 3",
   "language": "python",
   "name": "python3"
  },
  "language_info": {
   "codemirror_mode": {
    "name": "ipython",
    "version": 3
   },
   "file_extension": ".py",
   "mimetype": "text/x-python",
   "name": "python",
   "nbconvert_exporter": "python",
   "pygments_lexer": "ipython3",
   "version": "3.6.0"
  }
 },
 "nbformat": 4,
 "nbformat_minor": 2
}
