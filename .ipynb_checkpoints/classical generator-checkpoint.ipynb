{
 "cells": [
  {
   "cell_type": "code",
   "execution_count": 2,
   "metadata": {
    "collapsed": true,
    "deletable": true,
    "editable": true
   },
   "outputs": [],
   "source": [
    "import numpy as np\n",
    "import scipy as sc\n",
    "import tensorflow as tf\n",
    "import seaborn\n",
    "import matplotlib.pyplot as plt\n",
    "%matplotlib inline"
   ]
  },
  {
   "cell_type": "code",
   "execution_count": 3,
   "metadata": {
    "collapsed": true,
    "deletable": true,
    "editable": true
   },
   "outputs": [],
   "source": [
    "mu, sigma = 5, 0.2 # mean and standard deviation\n",
    "N = 1000\n",
    "X = np.random.normal(mu, sigma, N)"
   ]
  },
  {
   "cell_type": "markdown",
   "metadata": {
    "deletable": true,
    "editable": true
   },
   "source": [
    "# Genetaive Modeling of Classical Generator\n",
    "\n",
    "Suppose we are given a set of N observations. The dataset is X\n",
    "\n",
    "- What does it look like? Histogram?\n",
    "- Some statistical properties\n",
    "- What's the closest apprixation I can make?\n",
    "- Can I infer the parameters of my model?\n",
    "\n",
    "- ## What does it look like?"
   ]
  },
  {
   "cell_type": "code",
   "execution_count": 4,
   "metadata": {
    "collapsed": false,
    "deletable": true,
    "editable": true
   },
   "outputs": [
    {
     "data": {
      "image/png": "[encoded data removed]",
      "text/plain": [
       "<matplotlib.figure.Figure at 0x102159630>"
      ]
     },
     "metadata": {},
     "output_type": "display_data"
    }
   ],
   "source": [
    "p = plt.hist(X, 50, normed=True)"
   ]
  },
  {
   "cell_type": "markdown",
   "metadata": {
    "deletable": true,
    "editable": true
   },
   "source": [
    "- ## Some statistical properties"
   ]
  },
  {
   "cell_type": "code",
   "execution_count": 5,
   "metadata": {
    "collapsed": false,
    "deletable": true,
    "editable": true
   },
   "outputs": [
    {
     "name": "stdout",
     "output_type": "stream",
     "text": [
      "mean:  5.00686282406\n",
      "var:  0.0397856761206\n",
      "std:  0.199463470642\n"
     ]
    }
   ],
   "source": [
    "print('mean: ',np.mean(X))\n",
    "print('var: ',np.var(X))\n",
    "print('std: ',np.std(X))"
   ]
  },
  {
   "cell_type": "markdown",
   "metadata": {
    "deletable": true,
    "editable": true
   },
   "source": [
    "- ## What's my model?\n",
    "\n",
    "Looking at the histogram, I assume that each point is a sample from a Gaussian distribution. Thus for eaxh $x_i$, we have\n",
    "\n",
    "$$ p(x_i) = (2\\pi \\sigma^2)^{\\frac{-1}{2}} exp(\\frac{-(x_i-\\mu)^2}{2\\sigma^2}) $$"
   ]
  },
  {
   "cell_type": "markdown",
   "metadata": {
    "deletable": true,
    "editable": true
   },
   "source": [
    "- ## Can I infer the parameters?\n",
    "\n",
    "Let's handle this the complete Bayesian way - \n",
    "\n",
    "$$p(\\theta|X,m) = \\frac{p(X|\\theta,m)p(\\theta|m)}{p(X|m)}$$\n",
    "\n",
    "Here, $\\theta=\\{\\mu,\\sigma\\}$\n",
    "\n",
    "$$p(X|\\mu,\\sigma,m) = \\prod_{i=1}^N (2\\pi \\sigma^2)^{\\frac{-1}{2}} exp(\\frac{-(x_i-\\mu)^2}{2\\sigma^2})$$\n",
    "\n",
    "There are some obvious challenges to approaching this the fully-Bayesian-way\n",
    "\n",
    "- Prior on $\\mu$ and $\\sigma$ such that there are conjugacy properties\n",
    "\n",
    "- Can we assume independence for these parameters? The graphical model suggests otherwise..."
   ]
  },
  {
   "cell_type": "code",
   "execution_count": 15,
   "metadata": {
    "collapsed": false,
    "deletable": true,
    "editable": true
   },
   "outputs": [
    {
     "data": {
      "image/png": "[encoded data removed]",
      "text/plain": [
       "<matplotlib.figure.Figure at 0x1007f5b00>"
      ]
     },
     "metadata": {},
     "output_type": "display_data"
    }
   ],
   "source": [
    "from matplotlib import rc\n",
    "rc(\"font\", family=\"serif\", size=12)\n",
    "rc(\"text\", usetex=True)\n",
    "import daft\n",
    "pgm = daft.PGM([2.5, 3], origin=[0, 0])\n",
    "#Hierarchical Parameters\n",
    "pgm.add_node(daft.Node(\"alpha\", r\"$\\alpha$\", 1, 2.5, fixed=True))\n",
    "pgm.add_node(daft.Node(\"beta\", r\"$\\beta$\", 2, 2.5, fixed=True))\n",
    "#Latent vars\n",
    "pgm.add_node(daft.Node(\"mu\", r\"$\\mu$\", 1, 2))\n",
    "pgm.add_node(daft.Node(\"sigma\", r\"$\\sigma$\", 2, 2))\n",
    "#Observed Data\n",
    "pgm.add_node(daft.Node(\"x\", r\"$x_i$\", 1.5, 1, observed=True))\n",
    "\n",
    "pgm.add_edge(\"alpha\", \"mu\")\n",
    "pgm.add_edge(\"beta\", \"sigma\")\n",
    "pgm.add_edge(\"mu\", \"x\")\n",
    "pgm.add_edge(\"sigma\", \"x\")\n",
    "a = pgm.render()"
   ]
  },
  {
   "cell_type": "markdown",
   "metadata": {
    "collapsed": true,
    "deletable": true,
    "editable": true
   },
   "source": [
    "As both $\\mu$ and $\\sigma$ together determine the probability of x, they have an implicit dependency for inference and is doesn't make sense to have independent priors for the two.\n",
    "\n",
    "## Simplified models\n",
    "\n",
    "#### Model 1 - fixed $\\sigma = \\sigma_0$\n",
    "\n",
    "$$ \\mu_0 \\sim p(\\mu|\\sigma_0) $$\n",
    "$$ x_i \\sim p(x|\\mu_0,\\sigma_0) $$\n",
    "\n",
    "Inference for $\\mu$ will look like,\n",
    "\n",
    "$$ p(\\mu=\\mu_0|X,\\sigma_0) \\propto p(X|\\mu=\\mu_0,\\sigma_0)p(\\mu=\\mu_0|\\sigma_0) $$\n",
    "$$ p(\\mu=\\mu_0|X,\\sigma_0) \\propto \\prod_{i=1}^{N} p(x_i|\\mu=\\mu_0,\\sigma_0)p(\\mu=\\mu_0|\\sigma_0) $$\n",
    "\n",
    "Since, a Normal distribution is symmetric with respect to $x$ and $\\mu$ and propduct of two Gaussians is a Gaussian, it is easy to get the required **conjugacy by assuming a Gaussian prior** for $\\mu$\n",
    "\n",
    "#### Model 2 - fixed $\\mu = \\mu_0$\n",
    "\n",
    "$$ \\sigma_0 \\sim p(\\sigma|\\mu_0) $$\n",
    "$$ x_i \\sim p(x|\\mu_0,\\sigma_0) $$\n",
    "\n",
    "Inference for $\\sigma$ will look like,\n",
    "\n",
    "$$ p(\\sigma=\\sigma_0|X,\\mu_0) \\propto p(X|\\mu_0,\\sigma=\\sigma_0)p(\\sigma=\\sigma_0|\\mu_0) $$\n",
    "$$ p(\\sigma=\\sigma_0|X,\\mu_0) \\propto \\prod_{i=1}^{N} p(x_i|\\mu_0,\\sigma=\\sigma_0)p(\\sigma=\\sigma_0|\\mu_0) $$\n",
    "\n"
   ]
  },
  {
   "cell_type": "markdown",
   "metadata": {},
   "source": [
    "### Inference in Model 1 "
   ]
  },
  {
   "cell_type": "code",
   "execution_count": 13,
   "metadata": {
    "collapsed": false
   },
   "outputs": [
    {
     "data": {
      "image/png": "[encoded data removed]",
      "text/plain": [
       "<matplotlib.figure.Figure at 0x1031fd588>"
      ]
     },
     "metadata": {},
     "output_type": "display_data"
    }
   ],
   "source": [
    "pgm = daft.PGM([2.5, 3], origin=[0, 0])\n",
    "\n",
    "# Hierarchical parameters.\n",
    "pgm.add_node(daft.Node(\"alpha\", r\"$\\alpha$\", 1, 2.5, fixed=True))\n",
    "pgm.add_node(daft.Node(\"sigma\", r\"$\\sigma_0$\", 2, 2, fixed=True))\n",
    "# Latent variable.\n",
    "pgm.add_node(daft.Node(\"mu\", r\"$\\mu$\", 1, 2))\n",
    "# Data.\n",
    "pgm.add_node(daft.Node(\"x\", r\"$x_i$\", 1.5, 1, observed=True))\n",
    "\n",
    "\n",
    "pgm.add_edge(\"alpha\", \"mu\")\n",
    "pgm.add_edge(\"mu\", \"x\")\n",
    "pgm.add_edge(\"sigma\", \"x\")\n",
    "a = pgm.render()"
   ]
  },
  {
   "cell_type": "markdown",
   "metadata": {},
   "source": [
    "In this model, posterior for $\\mu$ can be analytically computed if an appropriate conjugacy prior assumptions. So if we assume that\n",
    "\n",
    "$$ p(\\mu|\\sigma_0,\\alpha) := N(\\mu | \\alpha_\\mu \\alpha_,\\sigma)$$\n",
    "\n",
    "then,\n",
    "\n",
    "$$ p(\\mu|X,\\sigma_0,\\alpha) = N()$$"
   ]
  },
  {
   "cell_type": "markdown",
   "metadata": {
    "deletable": true,
    "editable": true
   },
   "source": [
    "### Inference in Model 2"
   ]
  },
  {
   "cell_type": "code",
   "execution_count": 14,
   "metadata": {
    "collapsed": false
   },
   "outputs": [
    {
     "data": {
      "image/png": "[encoded data removed]",
      "text/plain": [
       "<matplotlib.figure.Figure at 0x102b50e48>"
      ]
     },
     "metadata": {},
     "output_type": "display_data"
    }
   ],
   "source": [
    "pgm = daft.PGM([2.5, 3], origin=[0, 0])\n",
    "\n",
    "# Hierarchical parameters.\n",
    "pgm.add_node(daft.Node(\"beta\", r\"$\\beta$\", 2, 2.5, fixed=True))\n",
    "pgm.add_node(daft.Node(\"mu\", r\"$\\mu_0$\", 1, 2, fixed=True))\n",
    "# Latent variable.\n",
    "pgm.add_node(daft.Node(\"sigma\", r\"$\\sigma$\", 2, 2))\n",
    "# Data.\n",
    "pgm.add_node(daft.Node(\"x\", r\"$x_i$\", 1.5, 1, observed=True))\n",
    "\n",
    "pgm.add_edge(\"beta\", \"sigma\")\n",
    "pgm.add_edge(\"mu\", \"x\")\n",
    "pgm.add_edge(\"sigma\", \"x\")\n",
    "\n",
    "# Render\n",
    "a = pgm.render()"
   ]
  },
  {
   "cell_type": "markdown",
   "metadata": {},
   "source": [
    "In this model, posterior for $\\mu$ can be analytically computed if an appropriate conjugacy prior assumptions. So if we assume that\n",
    "\n",
    "$$ p(\\sigma|\\mu_0,\\beta) := Ga(\\sigma | \\beta)$$\n",
    "\n",
    "then,\n",
    "\n",
    "$$ p(\\mu|X,\\sigma_0,\\alpha) = N()$$"
   ]
  },
  {
   "cell_type": "markdown",
   "metadata": {},
   "source": [
    "### Inference in Model 3"
   ]
  },
  {
   "cell_type": "code",
   "execution_count": 16,
   "metadata": {
    "collapsed": false
   },
   "outputs": [
    {
     "data": {
      "image/png": "[encoded data removed]",
      "text/plain": [
       "<matplotlib.figure.Figure at 0x10db1a748>"
      ]
     },
     "metadata": {},
     "output_type": "display_data"
    }
   ],
   "source": [
    "pgm = daft.PGM([2.5, 3], origin=[0, 0])\n",
    "#Hierarchical Parameters\n",
    "pgm.add_node(daft.Node(\"alpha\", r\"$\\alpha$\", 1, 2.5, fixed=True))\n",
    "pgm.add_node(daft.Node(\"beta\", r\"$\\beta$\", 2, 2.5, fixed=True))\n",
    "#Latent vars\n",
    "pgm.add_node(daft.Node(\"mu\", r\"$\\mu$\", 1, 2))\n",
    "pgm.add_node(daft.Node(\"sigma\", r\"$\\sigma$\", 2, 2))\n",
    "#Observed Data\n",
    "pgm.add_node(daft.Node(\"x\", r\"$x_i$\", 1.5, 1, observed=True))\n",
    "\n",
    "pgm.add_edge(\"alpha\", \"mu\")\n",
    "pgm.add_edge(\"beta\", \"sigma\")\n",
    "pgm.add_edge(\"mu\", \"x\")\n",
    "pgm.add_edge(\"sigma\", \"x\")\n",
    "a = pgm.render()"
   ]
  },
  {
   "cell_type": "markdown",
   "metadata": {},
   "source": []
  }
 ],
 "metadata": {
  "kernelspec": {
   "display_name": "Python 3",
   "language": "python",
   "name": "python3"
  },
  "language_info": {
   "codemirror_mode": {
    "name": "ipython",
    "version": 3
   },
   "file_extension": ".py",
   "mimetype": "text/x-python",
   "name": "python",
   "nbconvert_exporter": "python",
   "pygments_lexer": "ipython3",
   "version": "3.6.0"
  }
 },
 "nbformat": 4,
 "nbformat_minor": 2
}
